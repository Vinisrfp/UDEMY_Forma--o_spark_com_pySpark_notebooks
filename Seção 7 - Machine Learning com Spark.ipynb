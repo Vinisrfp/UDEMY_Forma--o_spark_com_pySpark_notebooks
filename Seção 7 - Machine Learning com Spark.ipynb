{
 "cells": [
  {
   "cell_type": "markdown",
   "metadata": {},
   "source": [
    "## Seção 7: Machinle learning com Spark"
   ]
  },
  {
   "cell_type": "code",
   "execution_count": 2,
   "metadata": {},
   "outputs": [],
   "source": [
    "import os\n",
    "import pyspark\n",
    "import findspark\n",
    "from pyspark.sql import SparkSession\n",
    "\n",
    "os.environ[\"SPARK_HOME\"] = \"C:\\\\ApacheSpark\\\\spark-3.5.3-bin-hadoop3\"\n",
    "\n",
    "findspark.init()\n",
    "spark = SparkSession.builder.master('local[*]').getOrCreate()"
   ]
  },
  {
   "cell_type": "markdown",
   "metadata": {},
   "source": [
    "### 55. Fundamentos de Machine Learning"
   ]
  },
  {
   "cell_type": "markdown",
   "metadata": {},
   "source": [
    "#### Oque é machine learning?\n",
    "\n",
    "- Machine Learning (ML) é um subcampo da inteligência artificial (IA) que permite que sistemas aprendam e melhorem com a experiência sem serem explicitamente programados para cada tarefa. Em vez disso, eles usam dados para treinar modelos que identificam padrões e fazem previsões ou decisões. O aprendizado ocorre por meio de algoritmos que ajustam as previsões com base nos dados de entrada e nos resultados esperados.\n",
    "\n",
    "#### Como funciona\n",
    "O ML se baseia em algoritmos que processam grandes volumes de dados para descobrir padrões. Existem diferentes tipos de aprendizado:\n",
    "\n",
    "- Supervisionado: O modelo é treinado com dados rotulados (exemplo: entrada e resposta esperada). Útil para classificação e regressão.\n",
    "- Não supervisionado: Trabalha com dados não rotulados, encontrando padrões e grupos ocultos nos dados. Aplicável para segmentação e redução de dimensionalidade.\n",
    "- Reforço: O modelo aprende por tentativa e erro, recebendo recompensas por acertos e penalidades por erros, aplicável em áreas como controle robótico e jogos.\n",
    "#### Aplicações\n",
    "Machine Learning pode ser aplicado em diversas áreas:\n",
    "\n",
    "- Financeiro: Previsão de preços, detecção de fraudes, análise de risco e algoritmos de negociação.\n",
    "- Saúde: Diagnóstico médico assistido, análise de imagem, descoberta de medicamentos e previsões de epidemias.\n",
    "- Marketing: Segmentação de clientes, recomendações personalizadas, análise de sentimentos e previsão de churn.\n",
    "- Indústria: Manutenção preditiva, otimização de processos e controle de qualidade.\n",
    "- Tecnologia: Assistentes virtuais, reconhecimento de fala, visão computacional, e recomendações de conteúdo.\n",
    "#### Principais informações\n",
    "- Dados são fundamentais: ML depende de dados de qualidade para obter bons resultados.\n",
    "- Algoritmos: Há várias técnicas, como árvores de decisão, redes neurais, regressão linear, máquinas de vetor de suporte (SVM), e mais.\n",
    "- Avaliação do Modelo: É importante validar a precisão e ajustar os parâmetros do modelo.\n",
    "- Infraestrutura: Ferramentas como Databricks, AWS, e bibliotecas como TensorFlow e Scikit-learn são comumente usadas.\n",
    "Machine Learning permite que sistemas automatizem decisões complexas, oferecendo insights que podem transformar o funcionamento de empresas, instituições e até do cotidiano.\n",
    "#### Conceitos\n",
    "- Classe: é o que se buscar prever ou classificar\n",
    "   - Ex: Espécie de planta, doença do paciente, se o cliente é bom pagador\n",
    "   - Classe também é um atributo, é uma caracteristica.\n",
    "   - Podemos ter atributos nominais ou numéricos (espécie de uma plata e comprimento).\n",
    "   ##### Classificações\n",
    "   - Classificação binária: é a classificação do objetivo em SIM ou NÃO.(Possui diferentes valores mas todas as clases estão na mesma coluna, mas possui apenas duas possibilidades).\n",
    "   - Classificação multiclasse: é quanto temos mais de duas possibilidades(Possui diferentes valores mas todas as clases estão na mesma coluna).\n",
    "   - Classificação multilabel: Se trata do conceito de classificar algo em mais de uma classe ao mesmo tempo. Ex: Uma música pode ser suave, clássica. E também pode ser uma música que não é moderna (Imaginamos que o que eu quero prever está em mais de uma coluna e uma linha pode ser classificada em mais de uma coluna ao mesmo tempo).\n",
    "- Dimensão ou atributo: são as características usadas como parâmetros para classificar\n",
    "- Instância: é uma observação\n",
    "- Relação: conjunto de dados\n",
    "#### Considerações sobre o modelo\n",
    "- Depende do Algoritmo utilizado\n",
    "- Pode perder a eficiência\n",
    "- Muito específico do negócio\n",
    "#### Regressão\n",
    "- Aplicado quando a classe é contínua\n",
    "- Exemplo: Você tem todas as informações de um carro e quer prever a potência de um motor(Será númerica)\n",
    "#### Métrica de Erros\n",
    "Quanto é necessario apurar um modelo que possui regressão(numeros reais ou inteiros) usamos outros tipos de métricas, agora não podemos mais avaliar se está certa ou errada, devemos avaliar a distancia da previsão feita com o valor que de fato ocorreu.\n",
    "##### Root Mean Squared Error (RMSE)\n",
    "Independente de Escala\n",
    " - O desvio padrão da amosta da diferença entre o previsto e o teste\n",
    "\n",
    "|Previsto    |Realizado    |Dif. ao Quad.|\n",
    "|:----------:|:-----------:|:-----------:|\n",
    "|3,34        |3,00         |0,1156       |                   \n",
    "|4,18        |4,00         |0,0324       |\n",
    "\n",
    "- Pi = Valor previsto\n",
    "- Ti = Valor realizado\n",
    "- N = Quantidade de informações\n",
    "\n",
    "RMSE =$$\\sqrt{(∑^Ni=1(Pi-Ti)^2)/N}$$   \n",
    "\n",
    "- RMSE =$$\\sqrt{0,1483/2}$$   \n",
    "- RMSE ≈ 0,2723\n",
    "\n"
   ]
  },
  {
   "cell_type": "markdown",
   "metadata": {},
   "source": [
    "### 56. Machine Learning no Spark"
   ]
  },
  {
   "cell_type": "markdown",
   "metadata": {},
   "source": [
    "#### Bibliotecas\n",
    "\n",
    " - spark.mllib\n",
    " - spark.ml\n",
    "\n",
    "ML baseado em RDD está descontinuado, agora as implementações são todas em DataFrames.\n",
    "\n",
    "#### Variáveis\n",
    "Variáveis Independentes - São colunas distintas\n",
    "Variável Dependente - Outra coluna, que normalmente é apenas uma coluna \n",
    "\n",
    "#### Variáveis No spark\n",
    "Normalmente todas as váriaveis independentes devem compor uma mesma coluna. Cria-se um vetor único, que é adicionado em uma nova coluna no Dataframe\n",
    "\n",
    "#### One HotEncoding\n",
    "- Machine Learning suporta apenas números\n",
    "- Atributos categóricos devem ser transformados em colunas, recebendo numeros para true ou false.\n",
    "\n",
    "##### One HotEnconding no spark\n",
    "- Existe o problema que se o atributo tiver muitos valores, serão criadas muitas colunas. Ex: Estados de um pais.\n",
    "- Para isso o spark permite o uso de matriz esparsa. Imagine que tivemossemos 27 estados, para cada linhas teriamos 26 zeros e apenas 1 um, a matriz esparsa compacta as matrizes que contém muitos valores 0.\n",
    "\n",
    "#### Formulas no R\n",
    "**R** permite definir o modelo através de fórmula.\n",
    "- Spark implemente Rformula\n",
    " - Aplica One HotEnconding e combina variáveis independentes em uma única coluna.\n",
    "\n",
    "#### Pipelines\n",
    "- Transformer: Transforma um DF em outro DF\n",
    "- Estimator: Fir em DF para produzier um Transformer\n",
    "- Pipeline: conecta Transformers Estimators para Produzir modelo\n",
    "- Parâmetros: Transformers e Estimators compartilham uma Api para definir parâmetros"
   ]
  },
  {
   "cell_type": "markdown",
   "metadata": {},
   "source": [
    "### 57. Preparando Dados para Regressão"
   ]
  },
  {
   "cell_type": "markdown",
   "metadata": {},
   "source": [
    "#### **Todos esse processo está sendo desenvolvido no Ubuntu, por se tratar de spark puro.**"
   ]
  }
 ],
 "metadata": {
  "kernelspec": {
   "display_name": "Python 3",
   "language": "python",
   "name": "python3"
  },
  "language_info": {
   "codemirror_mode": {
    "name": "ipython",
    "version": 3
   },
   "file_extension": ".py",
   "mimetype": "text/x-python",
   "name": "python",
   "nbconvert_exporter": "python",
   "pygments_lexer": "ipython3",
   "version": "3.11.9"
  }
 },
 "nbformat": 4,
 "nbformat_minor": 2
}
